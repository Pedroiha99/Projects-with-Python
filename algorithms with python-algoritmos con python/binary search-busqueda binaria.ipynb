{
 "cells": [
  {
   "cell_type": "markdown",
   "metadata": {},
   "source": [
    "La búsqueda binaria es un algoritmo de búsqueda eficiente utilizado para encontrar un elemento específico en una lista ordenada. A diferencia de la búsqueda lineal que examina cada elemento en secuencia, la búsqueda binaria divide repetidamente la lista en dos mitades y elimina la mitad en la que el elemento buscado no puede estar presente."
   ]
  },
  {
   "cell_type": "code",
   "execution_count": 5,
   "metadata": {},
   "outputs": [
    {
     "name": "stdout",
     "output_type": "stream",
     "text": [
      "El elemento 17 se encuentra en la posición 8.\n"
     ]
    }
   ],
   "source": [
    "def busqueda_binaria(lista, elemento):\n",
    "    \n",
    "    inicio = 0\n",
    "    fin = len(lista) - 1\n",
    "\n",
    "    while inicio <= fin:\n",
    "        medio = (inicio + fin) // 2\n",
    "        if lista[medio] == elemento:\n",
    "            return medio  # Retorna la posición del elemento si se encuentra\n",
    "        elif lista[medio] < elemento:\n",
    "            inicio = medio + 1\n",
    "        else:\n",
    "            fin = medio - 1\n",
    "    \n",
    "    return -1  # Retorna -1 si el elemento no se encuentra en la lista\n",
    "\n",
    "# Ejemplo\n",
    "mi_lista = [1, 3, 5, 7, 9, 11, 13, 15, 17]\n",
    "elemento_buscado = 17\n",
    "posicion = busqueda_binaria(mi_lista, elemento_buscado)\n",
    "\n",
    "if posicion != -1:\n",
    "    print(f\"El elemento {elemento_buscado} se encuentra en la posición {posicion}.\")\n",
    "else:\n",
    "    print(f\"El elemento {elemento_buscado} no se encuentra en la lista.\")\n"
   ]
  }
 ],
 "metadata": {
  "kernelspec": {
   "display_name": "base",
   "language": "python",
   "name": "python3"
  },
  "language_info": {
   "codemirror_mode": {
    "name": "ipython",
    "version": 3
   },
   "file_extension": ".py",
   "mimetype": "text/x-python",
   "name": "python",
   "nbconvert_exporter": "python",
   "pygments_lexer": "ipython3",
   "version": "3.11.3"
  }
 },
 "nbformat": 4,
 "nbformat_minor": 2
}
