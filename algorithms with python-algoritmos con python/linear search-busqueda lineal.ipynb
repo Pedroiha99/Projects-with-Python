{
 "cells": [
  {
   "cell_type": "markdown",
   "metadata": {},
   "source": [
    "\n",
    "Búsqueda Lineal.\n",
    "La búsqueda lineal en Python es un algoritmo simple utilizado para buscar un elemento específico en una lista, tupla o cualquier otra estructura de datos iterable. Este algoritmo funciona recorriendo cada elemento de la estructura de datos, uno por uno, hasta encontrar el elemento buscado o hasta que se agoten todos los elementos.\n",
    "\n",
    "Linear search in Python is a simple algorithm used to search for a specific element in a list, tuple, or any other iterable data structure. This algorithm works by looping through each element of the data structure, one by one, until the desired element is found or until all elements are exhausted."
   ]
  },
  {
   "cell_type": "code",
   "execution_count": 4,
   "metadata": {},
   "outputs": [
    {
     "name": "stdout",
     "output_type": "stream",
     "text": [
      "El elemento 5 se encuentra en la posición 2.\n"
     ]
    }
   ],
   "source": [
    "def busqueda_lineal(lista, elemento):\n",
    "    for i in range(len(lista)):\n",
    "        if lista[i] == elemento:\n",
    "            return i  # Retorna la posición del elemento si se encuentra\n",
    "        \n",
    "    return -1  # Retorna -1 si el elemento no se encuentra en la lista\n",
    "\n",
    "# Ejemplo 1\n",
    "\n",
    "mi_lista = [1, 3, 5, 7, 9]\n",
    "elemento_buscado = 5\n",
    "posicion = busqueda_lineal(mi_lista, elemento_buscado)\n",
    "\n",
    "if posicion != -1:\n",
    "    print(f\"El elemento {elemento_buscado} se encuentra en la posición {posicion}.\")\n",
    "else:\n",
    "    print(f\"El elemento {elemento_buscado} no se encuentra en la lista.\")\n",
    "    \n",
    "#recuerda que la posición uno tienen el índice cero.    \n"
   ]
  }
 ],
 "metadata": {
  "kernelspec": {
   "display_name": "base",
   "language": "python",
   "name": "python3"
  },
  "language_info": {
   "codemirror_mode": {
    "name": "ipython",
    "version": 3
   },
   "file_extension": ".py",
   "mimetype": "text/x-python",
   "name": "python",
   "nbconvert_exporter": "python",
   "pygments_lexer": "ipython3",
   "version": "3.11.3"
  }
 },
 "nbformat": 4,
 "nbformat_minor": 2
}
